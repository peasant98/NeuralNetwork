{
 "cells": [
  {
   "cell_type": "code",
   "execution_count": 220,
   "metadata": {},
   "outputs": [],
   "source": [
    "# a neural network in python\n",
    "\n",
    "import matplotlib.pyplot as plt"
   ]
  },
  {
   "cell_type": "markdown",
   "metadata": {},
   "source": [
    "**Neural Network in Python**:\n",
    "\n",
    "Here is an image classification neural network in Python, coded out with math explanations below."
   ]
  },
  {
   "cell_type": "markdown",
   "metadata": {},
   "source": [
    "**Overview**:\n",
    "\n",
    "This neural network consists of a few steps:\n",
    "\n",
    " - First, we feed it the data.\n",
    " - Then the feed forward part starts which predicts the results for the data - initially, with random weights and biases.\n",
    " - After that, we can use calculus for back propogation to modify the weights and bias based on how much the affect the loss function.\n",
    "\n",
    "\n",
    "Mathematically, this can be represented as following:\n",
    "\n",
    "$\\dfrac{\\partial{C}}{\\partial{w_3}}$ = The partial derivative of the Cost with respect to $w_3$\n",
    "\n",
    "$\\dfrac{\\partial{C}}{\\partial{b_3}}$ = The partial derivative of the Cost with respect to $b_3$\n",
    "\n",
    "$\\dfrac{\\partial{C}}{\\partial{w_2}}$ = The partial derivative of the Cost with respect to $w_2$\n",
    "\n",
    "$\\dfrac{\\partial{C}}{\\partial{b_2}}$ = The partial derivative of the Cost with respect to $b_2$\n",
    "\n",
    "$\\dfrac{\\partial{C}}{\\partial{w_1}}$ = The partial derivative of the Cost with respect to $w_1$\n",
    "\n",
    "$\\dfrac{\\partial{C}}{\\partial{b_1}}$ = The partial derivative of the Cost with respect to $b_1$\n",
    "\n",
    "An excellent video for learning more about the math and intuition of neural networks can be found here:\n",
    "\n",
    "https://www.youtube.com/watch?v=aircAruvnKk&list=PLZHQObOWTQDNU6R1_67000Dx_ZCJB-3pi\n",
    "\n",
    "Now, getting all that we need for the derivatives requires using the chain rule, in which we know that for each derivative:\n",
    "\n",
    "$\\dfrac{\\partial{C}}{\\partial{w_3}} = \\dfrac{\\partial{C}}{\\partial{a_3}} * \\dfrac{\\partial{a_3}}{\\partial{z_3}} * \\dfrac{\\partial{z_3}}{\\partial{w_3}}$\n",
    "\n",
    "\n",
    "\n",
    "$\\dfrac{\\partial{C}}{\\partial{b_3}} = \\dfrac{\\partial{C}}{\\partial{a_3}} * \\dfrac{\\partial{a_3}}{\\partial{z_3}} * \\dfrac{\\partial{z_3}}{\\partial{b_3}}$\n",
    "\n",
    "\n",
    "$\\dfrac{\\partial{C}}{\\partial{w_2}} = \\dfrac{\\partial{C}}{\\partial{a_2}} * \\dfrac{\\partial{a_2}}{\\partial{z_2}} * \\dfrac{\\partial{z_2}}{\\partial{w_2}}$\n",
    "\n",
    "$\\dfrac{\\partial{C}}{\\partial{b_2}} = \\dfrac{\\partial{C}}{\\partial{a_2}} * \\dfrac{\\partial{a_2}}{\\partial{z_2}} * \\dfrac{\\partial{z_2}}{\\partial{b_2}}$\n",
    "\n",
    "$\\dfrac{\\partial{C}}{\\partial{w_1}} = \\dfrac{\\partial{C}}{\\partial{a_1}} * \\dfrac{\\partial{a_1}}{\\partial{z_1}} * \\dfrac{\\partial{z_1}}{\\partial{w_1}}$\n",
    "\n",
    "$\\dfrac{\\partial{C}}{\\partial{b_1}} = \\dfrac{\\partial{C}}{\\partial{a_1}} * \\dfrac{\\partial{a_1}}{\\partial{z_1}} * \\dfrac{\\partial{z_1}}{\\partial{b_1}}$\n"
   ]
  },
  {
   "cell_type": "code",
   "execution_count": 370,
   "metadata": {},
   "outputs": [
    {
     "name": "stdout",
     "output_type": "stream",
     "text": [
      "Training Data Success Rate:  1.0\n",
      "Testing Data Success Rate:  0.9833333333333333\n"
     ]
    }
   ],
   "source": [
    "import pandas as pd\n",
    "import numpy as np\n",
    "from sklearn.datasets import load_digits\n",
    "from sklearn.model_selection import train_test_split\n",
    "\n",
    "digits = load_digits()\n",
    "targets = pd.get_dummies(digits.target)\n",
    "x_train, x_test, y_train, y_test = train_test_split(digits.data, targets, test_size=0.1, random_state=30)\n",
    "\n",
    "# the sigmoid function\n",
    "def sigmoid(s):\n",
    "    return 1/(1 + np.exp(-s))\n",
    "\n",
    "# derivative of sigmoid for later\n",
    "def sigmoidDerivative(s):\n",
    "    return s * (1 - s)\n",
    "\n",
    "\n",
    "# implementation of the soft max function that I found, didn't use here though\n",
    "def softmax(s):\n",
    "    exps = np.exp(s - np.max(s, axis=1, keepdims=True))\n",
    "    prob = exps/np.sum(exps, axis=1, keepdims=True)\n",
    "    return prob\n",
    "\n",
    "# amount of samples com\n",
    "def crossEntropy(pred, real):\n",
    "    samples = real.shape[0]\n",
    "    res = pred - real\n",
    "    return res/samples\n",
    "\n",
    "\n",
    "# error functions along with ce\n",
    "def error(predicted, actual):\n",
    "    samples = actual.shape[0]\n",
    "    logp = -np.log(predicted[np.arange(samples), actual.argmax(axis=1)])\n",
    "    loss = np.sum(logp)/samples\n",
    "    return loss\n",
    "\n",
    "# input layer and output layer with one hidden layer\n",
    "\n",
    "class NeuralNetwork:\n",
    "    def __init__(self, x, y, neurons, learningRate):\n",
    "        self.x = x\n",
    "        neurons = neurons\n",
    "        self.learningRate = learningRate\n",
    "        inputSize = x.shape[1]\n",
    "        outputSize = y.shape[1]\n",
    "        # the weights and bias based on the input size\n",
    "        self.w1 = np.random.randn(inputSize, neurons)\n",
    "        self.b1 = np.random.randn(1, neurons)\n",
    "        self.w2 = np.random.randn(neurons, neurons)\n",
    "        self.b2 = np.random.randn(1, neurons)\n",
    "        self.w3 = np.random.randn(neurons, outputSize)\n",
    "        self.b3 = np.random.randn(1, outputSize)\n",
    "        self.y = y\n",
    "\n",
    "    def feedForward(self):\n",
    "        self.a1 = sigmoid(np.dot(self.x, self.w1) + self.b1)\n",
    "        # just some matrix multiplication here\n",
    "        self.a2 = sigmoid(np.dot(self.a1, self.w2) + self.b2)\n",
    "        self.a3 = softmax(np.dot(self.a2, self.w3) + self.b3)\n",
    "        # performing the sigmoid rfb \n",
    "        # do this for all of the data in one crazy sweep\n",
    "        \n",
    "        \n",
    "    def backProp(self,x, verbose):\n",
    "        # backpropogation \n",
    "        cost = error(self.a3, self.y)\n",
    "        # get the error:\n",
    "        if x % 100 == 0 and verbose:\n",
    "            print(\"Error:\", cost)\n",
    "        a3Delta = crossEntropy(self.a3, self.y) # w3\n",
    "        # get the derivative of every weight and whatnot \n",
    "        \n",
    "        z2Delta = np.dot(a3Delta, self.w3.T)\n",
    "        # need to get the transpose so that everything is aligned\n",
    "        a2Delta = z2Delta * sigmoidDerivative(self.a2)\n",
    "        \n",
    "        z1Delta = np.dot(a2Delta, self.w2.T)\n",
    "        a1Delta = z1Delta * sigmoidDerivative(self.a1)\n",
    "        # change in the activity\n",
    "        \n",
    "        # adjust weights and biases by partial dervatives with respect to the \n",
    "        # cost function\n",
    "        \n",
    "        # get the new weights as a big vector\n",
    "        # change weight based on derivative\n",
    "\n",
    "        self.w3 -= self.learningRate * (np.dot(self.a2.T, a3Delta))\n",
    "        # change all of the weights here\n",
    "        #print(self.w3.shape)\n",
    "        \n",
    "        self.b3 -= self.learningRate * np.sum(a3Delta, axis=0)\n",
    "        self.w2 -= self.learningRate * (np.dot(self.a1.T, a2Delta))\n",
    "        self.b2 -= self.learningRate * np.sum(a2Delta, axis=0)\n",
    "        self.w1 -= self.learningRate * (np.dot(self.x.T, a1Delta))\n",
    "        self.b1 -= self.learningRate * np.sum(a1Delta, axis=0)\n",
    "\n",
    "    def predict(self, data):\n",
    "        self.x = data\n",
    "        self.feedForward()\n",
    "        \n",
    "        return self.a3.argmax()\n",
    "    \n",
    "    def replaceData(self, newDataX, newDataY):\n",
    "        self.x = newDataX\n",
    "        self.y = newDataY\n",
    "        # replaces the input and corresponding output data with the size of the mini batch or \n",
    "        # whatever it is we are training with\n",
    "\n",
    "        \n",
    "normalized_x_train = x_train / 16.0\n",
    "my_y_train = np.array(y_train)\n",
    "model = NeuralNetwork(normalized_x_train, my_y_train, 128, 0.3)\n",
    "# create the neural network\n",
    "\n",
    "# train the model with many passes through the data\n",
    "epochs = 1500\n",
    "verbose = False\n",
    "nPartitions = 10\n",
    "for e in range(epochs):\n",
    "    # split data up into batches to perform mini batch gradient descent\n",
    "    # break each epoch iteration dataset into a few batches\n",
    "    batchesInputs = np.array_split(normalized_x_train, nPartitions, axis=0)\n",
    "    batchesOutputs = np.array_split(my_y_train, nPartitions, axis=0)\n",
    "    # get the batches of outputs and inputs\n",
    "    # split it for each epoch\n",
    "    for xt, yt in zip(batchesInputs, batchesOutputs):\n",
    "        model.replaceData(xt, yt)\n",
    "        model.feedForward()\n",
    "        # feed forward, then calculate error and use calculus to back propogate\n",
    "        model.backProp(e, verbose)\n",
    "        \n",
    "def accuracy(x, y):\n",
    "    num = 0\n",
    "    length = len(x)\n",
    "    for a,b in zip(x, y):\n",
    "        s = model.predict(a)\n",
    "        if s == np.argmax(b):\n",
    "            num +=1\n",
    "    return num / length\n",
    "\n",
    "\n",
    "print(\"Training Data Success Rate: \", accuracy(x_train/16, np.array(y_train)))\n",
    "print(\"Testing Data Success Rate: \", accuracy(x_test/16, np.array(y_test)))\n"
   ]
  },
  {
   "cell_type": "markdown",
   "metadata": {},
   "source": [
    "After running the model with the training data and the testing data, the accuracy comes out to perfect with the training data, and it's lower at around $98$% percent with our testing data."
   ]
  },
  {
   "cell_type": "code",
   "execution_count": 142,
   "metadata": {},
   "outputs": [],
   "source": [
    "np.array(x_train)\n",
    "highest = np.argmax([1,2,3,4,4,4,4,46])"
   ]
  },
  {
   "cell_type": "code",
   "execution_count": 127,
   "metadata": {},
   "outputs": [],
   "source": []
  },
  {
   "cell_type": "code",
   "execution_count": 371,
   "metadata": {},
   "outputs": [
    {
     "data": {
      "text/plain": [
       "[array([1, 2, 3]), array([4, 5, 6]), array([7, 8, 9]), array([ 98, 767,  56])]"
      ]
     },
     "execution_count": 371,
     "metadata": {},
     "output_type": "execute_result"
    }
   ],
   "source": [
    "# test driving some numpy functions\n",
    "batches = np.array_split(x_train, 10)\n",
    "zu = [1,2,3,4,5,6,7,8,9,98,767,56]\n",
    "np.array_split(zu, 4, axis=0)"
   ]
  },
  {
   "cell_type": "code",
   "execution_count": 372,
   "metadata": {},
   "outputs": [],
   "source": [
    "def imagePredict(imgArr, myNN):\n",
    "    selection = imgArr[np.random.randint(0, len(imgArr))]\n",
    "    plt.imshow(np.reshape(selection, (8,8)))\n",
    "    res = myNN.predict(selection)\n",
    "    a = \"The model predicts \"  + str(res)\n",
    "    return a\n",
    "\n",
    "    \n",
    "    \n",
    "\n"
   ]
  },
  {
   "cell_type": "markdown",
   "metadata": {},
   "source": [
    "The images look ehh, but the model is able to predict images most of the time. Let's give the above function a few spins:"
   ]
  },
  {
   "cell_type": "code",
   "execution_count": 373,
   "metadata": {},
   "outputs": [
    {
     "data": {
      "text/plain": [
       "'The model predicts 1'"
      ]
     },
     "execution_count": 373,
     "metadata": {},
     "output_type": "execute_result"
    },
    {
     "data": {
      "image/png": "[encoded data removed]",
      "text/plain": [
       "<Figure size 432x288 with 1 Axes>"
      ]
     },
     "metadata": {
      "needs_background": "light"
     },
     "output_type": "display_data"
    }
   ],
   "source": [
    "imagePredict(x_test, model)"
   ]
  },
  {
   "cell_type": "code",
   "execution_count": 374,
   "metadata": {},
   "outputs": [
    {
     "data": {
      "text/plain": [
       "'The model predicts 1'"
      ]
     },
     "execution_count": 374,
     "metadata": {},
     "output_type": "execute_result"
    },
    {
     "data": {
      "image/png": "[encoded data removed]",
      "text/plain": [
       "<Figure size 432x288 with 1 Axes>"
      ]
     },
     "metadata": {
      "needs_background": "light"
     },
     "output_type": "display_data"
    }
   ],
   "source": [
    "imagePredict(x_test, model)"
   ]
  },
  {
   "cell_type": "code",
   "execution_count": 375,
   "metadata": {},
   "outputs": [
    {
     "data": {
      "text/plain": [
       "'The model predicts 5'"
      ]
     },
     "execution_count": 375,
     "metadata": {},
     "output_type": "execute_result"
    },
    {
     "data": {
      "image/png": "[encoded data removed]",
      "text/plain": [
       "<Figure size 432x288 with 1 Axes>"
      ]
     },
     "metadata": {
      "needs_background": "light"
     },
     "output_type": "display_data"
    }
   ],
   "source": [
    "imagePredict(x_test, model)"
   ]
  },
  {
   "cell_type": "code",
   "execution_count": 382,
   "metadata": {},
   "outputs": [
    {
     "data": {
      "text/plain": [
       "'The model predicts 1'"
      ]
     },
     "execution_count": 382,
     "metadata": {},
     "output_type": "execute_result"
    },
    {
     "data": {
      "image/png": "[encoded data removed]",
      "text/plain": [
       "<Figure size 432x288 with 1 Axes>"
      ]
     },
     "metadata": {
      "needs_background": "light"
     },
     "output_type": "display_data"
    }
   ],
   "source": [
    "imagePredict(x_test, model)"
   ]
  }
 ],
 "metadata": {
  "kernelspec": {
   "display_name": "Python 3",
   "language": "python",
   "name": "python3"
  },
  "language_info": {
   "codemirror_mode": {
    "name": "ipython",
    "version": 3
   },
   "file_extension": ".py",
   "mimetype": "text/x-python",
   "name": "python",
   "nbconvert_exporter": "python",
   "pygments_lexer": "ipython3",
   "version": "3.6.7"
  }
 },
 "nbformat": 4,
 "nbformat_minor": 2
}
